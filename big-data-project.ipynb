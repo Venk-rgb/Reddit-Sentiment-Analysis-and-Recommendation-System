{
 "cells": [
  {
   "cell_type": "code",
   "execution_count": 3,
   "id": "46240d87-e26d-466d-904c-da817a8bfcd3",
   "metadata": {
    "tags": []
   },
   "outputs": [
    {
     "name": "stdout",
     "output_type": "stream",
     "text": [
      "{'author': <tf.Tensor: shape=(), dtype=string, numpy=b'huh7'>, 'body': <tf.Tensor: shape=(), dtype=string, numpy=b\"I  was talking to this girl I've met today, and I'm not so sure what happened. It was nice seeing her after almost 3 weeks last talking with her, and she seems like a cool person to hang out with. I realized however, that I want to try to be good friends with her. We walked around and talked a while, and before I knew what happened I asked and she gave me her digits. \\n\\nWe proceeded to text each other back and forth about lots of bullshit, and I suddenly asked myself; is this emotionally cheating? To be honest, I do feel as if I did. \\n\\nI understand I (19M)am in a monogamous relationship with my gf(17), and I want communication between us to be crystal clear. I feel guilty, and an obligation to tell her of what I did. Should I tell my gf about this, or stop myself in the future before something like this happens again? I am emotionally confused right now, and could use some advice.\\n\\nTL;DR I think I may have emotionally cheated, should I tell my gf?\">, 'content': <tf.Tensor: shape=(), dtype=string, numpy=b\"I  was talking to this girl I've met today, and I'm not so sure what happened. It was nice seeing her after almost 3 weeks last talking with her, and she seems like a cool person to hang out with. I realized however, that I want to try to be good friends with her. We walked around and talked a while, and before I knew what happened I asked and she gave me her digits. \\n We proceeded to text each other back and forth about lots of bullshit, and I suddenly asked myself; is this emotionally cheating? To be honest, I do feel as if I did. \\n I understand I (19M)am in a monogamous relationship with my gf(17), and I want communication between us to be crystal clear. I feel guilty, and an obligation to tell her of what I did. Should I tell my gf about this, or stop myself in the future before something like this happens again? I am emotionally confused right now, and could use some advice.\">, 'id': <tf.Tensor: shape=(), dtype=string, numpy=b't3_14nnxj'>, 'normalizedBody': <tf.Tensor: shape=(), dtype=string, numpy=b\"I  was talking to this girl I've met today, and I'm not so sure what happened. It was nice seeing her after almost 3 weeks last talking with her, and she seems like a cool person to hang out with. I realized however, that I want to try to be good friends with her. We walked around and talked a while, and before I knew what happened I asked and she gave me her digits. \\n We proceeded to text each other back and forth about lots of bullshit, and I suddenly asked myself; is this emotionally cheating? To be honest, I do feel as if I did. \\n I understand I (19M)am in a monogamous relationship with my gf(17), and I want communication between us to be crystal clear. I feel guilty, and an obligation to tell her of what I did. Should I tell my gf about this, or stop myself in the future before something like this happens again? I am emotionally confused right now, and could use some advice. \\n TL;DR I think I may have emotionally cheated, should I tell my gf? \\n\">, 'subreddit': <tf.Tensor: shape=(), dtype=string, numpy=b'relationship_advice'>, 'subreddit_id': <tf.Tensor: shape=(), dtype=string, numpy=b't5_2r0cn'>, 'summary': <tf.Tensor: shape=(), dtype=string, numpy=b'I think I may have emotionally cheated, should I tell my gf?'>}\n",
      "{'author': <tf.Tensor: shape=(), dtype=string, numpy=b'Ikenbon'>, 'body': <tf.Tensor: shape=(), dtype=string, numpy=b'Thanks for your detailed reply. I guess, from a lore standpoint and without the actual SM codex on hand, I assumed that BT\\'s used the power swords exclusively for their crusader squads and that perhaps they had specific chapter tactics that allowed them to have an alternative loadout to a \"normal\" SM army (all the fluff I\\'ve read describes the process of moving from neophyte -&gt; initiate -&gt; sword brethren). I\\'ll keep your suggestions in mind when I get a point where I can start putting my chapter together.\\n\\nI do have another question though, if you\\'re feeling inclinded to answer: In the BRB it discusses using allies and how imperial forces are \"battle brothers\" -- I know that the Sisters of Battle are imperial, and I\\'d like to include them in some small part because the Black Templars (from the fluff I\\'ve read) had a lot to do with the formation of their organization, but the thing that confuses me about allies is whether or not taking units from another army changes the points cost of secondary army\\'s units? TLDR: If I take Sisters of Battle in my Black Templars chapter, will they cost more than their standard points value?'>, 'content': <tf.Tensor: shape=(), dtype=string, numpy=b'Thanks for your detailed reply. I guess, from a lore standpoint and without the actual SM codex on hand, I assumed that BT\\'s used the power swords exclusively for their crusader squads and that perhaps they had specific chapter tactics that allowed them to have an alternative loadout to a \"normal\" SM army (all the fluff I\\'ve read describes the process of moving from neophyte -> initiate -> sword brethren). I\\'ll keep your suggestions in mind when I get a point where I can start putting my chapter together. \\n I do have another question though, if you\\'re feeling inclinded to answer: In the BRB it discusses using allies and how imperial forces are \"battle brothers\" -- I know that the Sisters of Battle are imperial, and I\\'d like to include them in some small part because the Black Templars (from the fluff I\\'ve read) had a lot to do with the formation of their organization, but the thing that confuses me about allies is whether or not taking units from another army changes the points cost of secondary army\\'s units?'>, 'id': <tf.Tensor: shape=(), dtype=string, numpy=b'cm1pcek'>, 'normalizedBody': <tf.Tensor: shape=(), dtype=string, numpy=b'Thanks for your detailed reply. I guess, from a lore standpoint and without the actual SM codex on hand, I assumed that BT\\'s used the power swords exclusively for their crusader squads and that perhaps they had specific chapter tactics that allowed them to have an alternative loadout to a \"normal\" SM army (all the fluff I\\'ve read describes the process of moving from neophyte -> initiate -> sword brethren). I\\'ll keep your suggestions in mind when I get a point where I can start putting my chapter together. \\n I do have another question though, if you\\'re feeling inclinded to answer: In the BRB it discusses using allies and how imperial forces are \"battle brothers\" -- I know that the Sisters of Battle are imperial, and I\\'d like to include them in some small part because the Black Templars (from the fluff I\\'ve read) had a lot to do with the formation of their organization, but the thing that confuses me about allies is whether or not taking units from another army changes the points cost of secondary army\\'s units? TLDR: If I take Sisters of Battle in my Black Templars chapter, will they cost more than their standard points value? \\n'>, 'subreddit': <tf.Tensor: shape=(), dtype=string, numpy=b'Warhammer40k'>, 'subreddit_id': <tf.Tensor: shape=(), dtype=string, numpy=b't5_2rr81'>, 'summary': <tf.Tensor: shape=(), dtype=string, numpy=b'If I take Sisters of Battle in my Black Templars chapter, will they cost more than their standard points value?'>}\n",
      "{'author': <tf.Tensor: shape=(), dtype=string, numpy=b'[deleted]'>, 'body': <tf.Tensor: shape=(), dtype=string, numpy=b'My sister became mentally unwell and was fired from a very high powered job because of poor work and non attendance.  This was 18 months ago. \\nShe was sleeping all day, not eating, not sleeping etc classic depression symptoms. \\n\\nShe was was diagnosed with depression in her teens, but the borderline and narcasstic diagnosis are relatively new (however not a surprise). \\n\\nShe is average at compliance with medication and doesn\\'t really engage in the treatment that has been recommended. \\n\\nI have helped her with money for food, medication, taking her to doctors appointments etc for the past few years during various fluctuations in her mood. All have come about because she had asked or I offered and she accepted. \\n\\nThis time was I more worried than I hadn\\'t been before. \\n\\nAt the time she was fired, she told me about it. \\n\\nFor some context- we have loving parents and there are three other siblings, all male.  Admittedly her and I were closer, as our other siblings have disconnected from her due to previous difficult behaviors. \\n\\nAt the time She was fired i told her I have to tell our parents. I explained my reasoning for it. I am worried about her and they have every means and desire to assist her.  She told me not to, but my concern was so significant for her health and circumstances I told our parents anyway.\\n\\nShe was initially angry with me, but things settled down. I was away a lot for work over the next year and she and I barely had any contact. \\n\\nHowever recently she contacted me- aggressive, highly distressed, asking me \"how dare I\" tell our parents, I never told her the reason I did this, I betray her trust. This has occurred over a few days now. \\n\\nThere are multiple inaccuracies in the messages and an obvious misinterpretation of events and intentions. \\n\\nI told her I don\\'t want to talk to her at the moment, I have already explained to her why I did what I did and that I don\\'t deserve to be spoken to in this manner. \\n\\nParents want us to talk it out. I offered her the opportunity to talk in person, but she declined. \\nA few days later she sent multiple vicious texts saying I didn\\'t tell her why I told our parents, I should go fuck myself, the family would be better if I wasn\\'t around, if i ever think about helping anyone again I should just go fuck myself instead, I\\'m a fucking martyr etc \\n\\nI never used foul language with her. I tried to be as settled and considered in my responses as possible to not escalate things. \\n\\nMy parents are upset. \\nI\\'m upset.\\nShe is clearly high distressed.\\n\\nI simply don\\'t know how to move forward. Advice reddit? \\n\\n\\n\\nTl;dr- younger sister became mentally unwell, was fired, I told our parents who were supportive and helpful. \\nHadn\\'t spoken to me for nearly a year- recount acts inaccurately, tells me to go fuck myself, I have no reason to feel hurt, the family would be better if I wasn\\'t around. Help. '>, 'content': <tf.Tensor: shape=(), dtype=string, numpy=b'My sister became mentally unwell and was fired from a very high powered job because of poor work and non attendance.  This was 18 months ago. \\nShe was sleeping all day, not eating, not sleeping etc classic depression symptoms. \\n She was was diagnosed with depression in her teens, but the borderline and narcasstic diagnosis are relatively new (however not a surprise). \\n She is average at compliance with medication and doesn\\'t really engage in the treatment that has been recommended. \\n I have helped her with money for food, medication, taking her to doctors appointments etc for the past few years during various fluctuations in her mood. All have come about because she had asked or I offered and she accepted. \\n This time was I more worried than I hadn\\'t been before. \\n At the time she was fired, she told me about it. \\n For some context- we have loving parents and there are three other siblings, all male.  Admittedly her and I were closer, as our other siblings have disconnected from her due to previous difficult behaviors. \\n At the time She was fired i told her I have to tell our parents. I explained my reasoning for it. I am worried about her and they have every means and desire to assist her.  She told me not to, but my concern was so significant for her health and circumstances I told our parents anyway. \\n She was initially angry with me, but things settled down. I was away a lot for work over the next year and she and I barely had any contact. \\n However recently she contacted me- aggressive, highly distressed, asking me \"how dare I\" tell our parents, I never told her the reason I did this, I betray her trust. This has occurred over a few days now. \\n There are multiple inaccuracies in the messages and an obvious misinterpretation of events and intentions. \\n I told her I don\\'t want to talk to her at the moment, I have already explained to her why I did what I did and that I don\\'t deserve to be spoken to in this manner. \\n Parents want us to talk it out. I offered her the opportunity to talk in person, but she declined. \\nA few days later she sent multiple vicious texts saying I didn\\'t tell her why I told our parents, I should go fuck myself, the family would be better if I wasn\\'t around, if i ever think about helping anyone again I should just go fuck myself instead, I\\'m a fucking martyr etc \\n I never used foul language with her. I tried to be as settled and considered in my responses as possible to not escalate things. \\n My parents are upset. \\nI\\'m upset.\\nShe is clearly high distressed. \\n I simply don\\'t know how to move forward. Advice reddit?'>, 'id': <tf.Tensor: shape=(), dtype=string, numpy=b't3_2ogd33'>, 'normalizedBody': <tf.Tensor: shape=(), dtype=string, numpy=b'My sister became mentally unwell and was fired from a very high powered job because of poor work and non attendance.  This was 18 months ago. \\nShe was sleeping all day, not eating, not sleeping etc classic depression symptoms. \\n She was was diagnosed with depression in her teens, but the borderline and narcasstic diagnosis are relatively new (however not a surprise). \\n She is average at compliance with medication and doesn\\'t really engage in the treatment that has been recommended. \\n I have helped her with money for food, medication, taking her to doctors appointments etc for the past few years during various fluctuations in her mood. All have come about because she had asked or I offered and she accepted. \\n This time was I more worried than I hadn\\'t been before. \\n At the time she was fired, she told me about it. \\n For some context- we have loving parents and there are three other siblings, all male.  Admittedly her and I were closer, as our other siblings have disconnected from her due to previous difficult behaviors. \\n At the time She was fired i told her I have to tell our parents. I explained my reasoning for it. I am worried about her and they have every means and desire to assist her.  She told me not to, but my concern was so significant for her health and circumstances I told our parents anyway. \\n She was initially angry with me, but things settled down. I was away a lot for work over the next year and she and I barely had any contact. \\n However recently she contacted me- aggressive, highly distressed, asking me \"how dare I\" tell our parents, I never told her the reason I did this, I betray her trust. This has occurred over a few days now. \\n There are multiple inaccuracies in the messages and an obvious misinterpretation of events and intentions. \\n I told her I don\\'t want to talk to her at the moment, I have already explained to her why I did what I did and that I don\\'t deserve to be spoken to in this manner. \\n Parents want us to talk it out. I offered her the opportunity to talk in person, but she declined. \\nA few days later she sent multiple vicious texts saying I didn\\'t tell her why I told our parents, I should go fuck myself, the family would be better if I wasn\\'t around, if i ever think about helping anyone again I should just go fuck myself instead, I\\'m a fucking martyr etc \\n I never used foul language with her. I tried to be as settled and considered in my responses as possible to not escalate things. \\n My parents are upset. \\nI\\'m upset.\\nShe is clearly high distressed. \\n I simply don\\'t know how to move forward. Advice reddit? \\n Tl;dr- younger sister became mentally unwell, was fired, I told our parents who were supportive and helpful. \\nHadn\\'t spoken to me for nearly a year- recount acts inaccurately, tells me to go fuck myself, I have no reason to feel hurt, the family would be better if I wasn\\'t around. Help. \\n'>, 'subreddit': <tf.Tensor: shape=(), dtype=string, numpy=b'relationships'>, 'subreddit_id': <tf.Tensor: shape=(), dtype=string, numpy=b't5_2qjvn'>, 'summary': <tf.Tensor: shape=(), dtype=string, numpy=b\"younger sister became mentally unwell, was fired, I told our parents who were supportive and helpful. \\nHadn't spoken to me for nearly a year- recount acts inaccurately, tells me to go fuck myself, I have no reason to feel hurt, the family would be better if I wasn't around. Help.\">}\n",
      "{'author': <tf.Tensor: shape=(), dtype=string, numpy=b'Sir_Slopapotamus'>, 'body': <tf.Tensor: shape=(), dtype=string, numpy=b'I was 17. It was extremely awkward and short. I had no idea what I was doing. My parents left for the night and my girlfriend at the time was over. What made it worse was that my mother took me aside a few hours beforehand and told me if I ever got a girl pregnant, \"she\\'s keeping the baby\". What made it even more worse: we didn\\'t use any protection. And my girlfriend asked, \"Is that it?\" Gah, I was such a kid.\\n\\n**tl;dr: I\\'ve gotten a lot better at sex**'>, 'content': <tf.Tensor: shape=(), dtype=string, numpy=b'I was 17. It was extremely awkward and short. I had no idea what I was doing. My parents left for the night and my girlfriend at the time was over. What made it worse was that my mother took me aside a few hours beforehand and told me if I ever got a girl pregnant, \"she\\'s keeping the baby\". What made it even more worse: we didn\\'t use any protection. And my girlfriend asked, \"Is that it?\" Gah, I was such a kid.'>, 'id': <tf.Tensor: shape=(), dtype=string, numpy=b'c7t466p'>, 'normalizedBody': <tf.Tensor: shape=(), dtype=string, numpy=b'I was 17. It was extremely awkward and short. I had no idea what I was doing. My parents left for the night and my girlfriend at the time was over. What made it worse was that my mother took me aside a few hours beforehand and told me if I ever got a girl pregnant, \"she\\'s keeping the baby\". What made it even more worse: we didn\\'t use any protection. And my girlfriend asked, \"Is that it?\" Gah, I was such a kid. \\n tl;dr: I\\'ve gotten a lot better at sex \\n'>, 'subreddit': <tf.Tensor: shape=(), dtype=string, numpy=b'AskReddit'>, 'subreddit_id': <tf.Tensor: shape=(), dtype=string, numpy=b't5_2qh1i'>, 'summary': <tf.Tensor: shape=(), dtype=string, numpy=b\"I've gotten a lot better at sex\">}\n",
      "{'author': <tf.Tensor: shape=(), dtype=string, numpy=b'Yourmamasmama'>, 'body': <tf.Tensor: shape=(), dtype=string, numpy=b\"As someone who picks Genji as his go-to hero I can really tell just how much of an issue the netcode is. I don't notice this with any other hero but Genji really relies on very reactive (and predictive) deflects. I've had so many times when on my screen I would press deflect but somehow the widow maker is able to still HS me or the roadhog is able to still hook me. If ranked play is supposed to be an indication of skill than clearly anyone who prefers to play genji will be at a disadvantage because although these kinds of deaths only occur once every game, sometimes it is the difference between a win and a loss. \\n\\nIt is unfair for certain heroes (like Genji) to play the game on 20hz simply because the game lags behind the player's reaction speed. \\n\\nI am truly passionate about becoming better at this game but it sucks that my favourite hero can't be used to his full potential simply due to netcode. \\n\\n**TL;DR Heros like Genji rely on very precise timing and 20hz client side is unable to facilitate the needs of the player.** \">, 'content': <tf.Tensor: shape=(), dtype=string, numpy=b\"As someone who picks Genji as his go-to hero I can really tell just how much of an issue the netcode is. I don't notice this with any other hero but Genji really relies on very reactive (and predictive) deflects. I've had so many times when on my screen I would press deflect but somehow the widow maker is able to still HS me or the roadhog is able to still hook me. If ranked play is supposed to be an indication of skill than clearly anyone who prefers to play genji will be at a disadvantage because although these kinds of deaths only occur once every game, sometimes it is the difference between a win and a loss. \\n It is unfair for certain heroes (like Genji) to play the game on 20hz simply because the game lags behind the player's reaction speed. \\n I am truly passionate about becoming better at this game but it sucks that my favourite hero can't be used to his full potential simply due to netcode.\">, 'id': <tf.Tensor: shape=(), dtype=string, numpy=b't3_4pi4hu'>, 'normalizedBody': <tf.Tensor: shape=(), dtype=string, numpy=b\"As someone who picks Genji as his go-to hero I can really tell just how much of an issue the netcode is. I don't notice this with any other hero but Genji really relies on very reactive (and predictive) deflects. I've had so many times when on my screen I would press deflect but somehow the widow maker is able to still HS me or the roadhog is able to still hook me. If ranked play is supposed to be an indication of skill than clearly anyone who prefers to play genji will be at a disadvantage because although these kinds of deaths only occur once every game, sometimes it is the difference between a win and a loss. \\n It is unfair for certain heroes (like Genji) to play the game on 20hz simply because the game lags behind the player's reaction speed. \\n I am truly passionate about becoming better at this game but it sucks that my favourite hero can't be used to his full potential simply due to netcode. \\n TL;DR Heros like Genji rely on very precise timing and 20hz client side is unable to facilitate the needs of the player. \\n\">, 'subreddit': <tf.Tensor: shape=(), dtype=string, numpy=b'Overwatch'>, 'subreddit_id': <tf.Tensor: shape=(), dtype=string, numpy=b't5_2u5kl'>, 'summary': <tf.Tensor: shape=(), dtype=string, numpy=b'Heros like Genji rely on very precise timing and 20hz client side is unable to facilitate the needs of the player.'>}\n"
     ]
    }
   ],
   "source": [
    "import tensorflow_datasets as tfds\n",
    "\n",
    "\n",
    "ds, info = tfds.load(\"reddit\", split=\"train\", with_info=True, data_dir=\"~/shared/ml/tensorflow\")\n",
    "\n",
    "# Take the first five rows\n",
    "first_five_rows = ds.take(5)\n",
    "\n",
    "# Iterate over the first five rows and print them\n",
    "for row in first_five_rows:\n",
    "    print(row)"
   ]
  },
  {
   "cell_type": "code",
   "execution_count": 2,
   "id": "69d8bbbc-edc9-4e41-89ea-c068474973b0",
   "metadata": {},
   "outputs": [
    {
     "name": "stdout",
     "output_type": "stream",
     "text": [
      ":: loading settings :: url = jar:file:/opt/conda/envs/bigdata/lib/python3.10/site-packages/pyspark/jars/ivy-2.5.1.jar!/org/apache/ivy/core/settings/ivysettings.xml\n"
     ]
    },
    {
     "name": "stderr",
     "output_type": "stream",
     "text": [
      "Ivy Default Cache set to: /home/jovyan/.ivy2/cache\n",
      "The jars for the packages stored in: /home/jovyan/.ivy2/jars\n",
      "com.linkedin.sparktfrecord#spark-tfrecord_2.12 added as a dependency\n",
      ":: resolving dependencies :: org.apache.spark#spark-submit-parent-d1bfc61d-a0d7-45fe-934c-5672fe959641;1.0\n",
      "\tconfs: [default]\n",
      "\tfound com.linkedin.sparktfrecord#spark-tfrecord_2.12;0.6.0 in central\n",
      ":: resolution report :: resolve 313ms :: artifacts dl 13ms\n",
      "\t:: modules in use:\n",
      "\tcom.linkedin.sparktfrecord#spark-tfrecord_2.12;0.6.0 from central in [default]\n",
      "\t---------------------------------------------------------------------\n",
      "\t|                  |            modules            ||   artifacts   |\n",
      "\t|       conf       | number| search|dwnlded|evicted|| number|dwnlded|\n",
      "\t---------------------------------------------------------------------\n",
      "\t|      default     |   1   |   0   |   0   |   0   ||   1   |   0   |\n",
      "\t---------------------------------------------------------------------\n",
      ":: retrieving :: org.apache.spark#spark-submit-parent-d1bfc61d-a0d7-45fe-934c-5672fe959641\n",
      "\tconfs: [default]\n",
      "\t0 artifacts copied, 1 already retrieved (0kB/12ms)\n",
      "23/12/12 14:48:36 WARN NativeCodeLoader: Unable to load native-hadoop library for your platform... using builtin-java classes where applicable\n",
      "Setting default log level to \"WARN\".\n",
      "To adjust logging level use sc.setLogLevel(newLevel). For SparkR, use setLogLevel(newLevel).\n"
     ]
    },
    {
     "name": "stdout",
     "output_type": "stream",
     "text": [
      "The PySpark 3.5.0 version is running...\n"
     ]
    }
   ],
   "source": [
    "from pyspark import SparkConf, SparkContext\n",
    "from pyspark.sql import SparkSession\n",
    "\n",
    "conf = SparkConf().set(\"spark.jars.packages\", \"com.linkedin.sparktfrecord:spark-tfrecord_2.12:0.6.0\")\n",
    "sc = SparkContext(conf=conf)\n",
    "spark = SparkSession(sc)\n",
    "print(f'The PySpark {spark.version} version is running...')"
   ]
  },
  {
   "cell_type": "code",
   "execution_count": 3,
   "id": "003a7815-0482-4a90-b762-1c619dd608a2",
   "metadata": {
    "tags": []
   },
   "outputs": [
    {
     "name": "stderr",
     "output_type": "stream",
     "text": [
      "                                                                                \r"
     ]
    },
    {
     "name": "stdout",
     "output_type": "stream",
     "text": [
      "+--------------------+------------+---------------+--------------------+--------------------+--------------------+------------+-------+\n",
      "|      normalizedBody|subreddit_id|      subreddit|             summary|                body|             content|      author|     id|\n",
      "+--------------------+------------+---------------+--------------------+--------------------+--------------------+------------+-------+\n",
      "|I did. It was one...|    t5_2qh1i|      AskReddit|I cheated with a ...|I did. It was one...|I did. It was one...|RandomGuy0-2|ceb578v|\n",
      "|My son was 3 when...|    t5_2qh1i|      AskReddit|kids who cannot s...|My son was 3 when...|My son was 3 when...|      Logun0|cart4tc|\n",
      "|Okay, so I take s...|    t5_2tkk8|OpiatesRecovery|Opiates give a po...|Okay, so I take s...|Okay, so I take s...|  seestraw89|c7hsue4|\n",
      "+--------------------+------------+---------------+--------------------+--------------------+--------------------+------------+-------+\n",
      "only showing top 3 rows\n",
      "\n"
     ]
    }
   ],
   "source": [
    "# Directory containing TFRecord files and the JSON file\n",
    "tfrecord_dir = \"shared/ml/tensorflow/reddit/1.0.0/*\"\n",
    "\n",
    "reddit_data = spark.read.format(\"tfrecord\") \\\n",
    "    .option(\"recordType\", \"Example\") \\\n",
    "    .option(\"pathGlobFilter\", \"*.tfrecord-*\") \\\n",
    "    .load(tfrecord_dir)\n",
    "\n",
    "\n",
    "reddit_data.show(3)"
   ]
  },
  {
   "cell_type": "code",
   "execution_count": 4,
   "id": "3cf6a367-d99f-4bfa-8b52-b8dc2a7d10d9",
   "metadata": {
    "tags": []
   },
   "outputs": [
    {
     "name": "stderr",
     "output_type": "stream",
     "text": [
      "                                                                                \r"
     ]
    },
    {
     "data": {
      "text/plain": [
       "3848330"
      ]
     },
     "execution_count": 4,
     "metadata": {},
     "output_type": "execute_result"
    }
   ],
   "source": [
    "reddit_data.count()"
   ]
  },
  {
   "cell_type": "code",
   "execution_count": 6,
   "id": "3be955b7-8eb4-4c82-86f4-1e3be9aacf2d",
   "metadata": {
    "tags": []
   },
   "outputs": [
    {
     "name": "stderr",
     "output_type": "stream",
     "text": [
      "[Stage 12:>                                                         (0 + 2) / 2]\r"
     ]
    },
    {
     "name": "stdout",
     "output_type": "stream",
     "text": [
      "+-------------------+------+\n",
      "|          subreddit| count|\n",
      "+-------------------+------+\n",
      "|          AskReddit|589947|\n",
      "|      relationships|352049|\n",
      "|    leagueoflegends|109307|\n",
      "|               tifu| 52219|\n",
      "|relationship_advice| 50416|\n",
      "|              trees| 47286|\n",
      "|             gaming| 43851|\n",
      "|            atheism| 43268|\n",
      "|      AdviceAnimals| 40783|\n",
      "|              funny| 40171|\n",
      "|           politics| 36518|\n",
      "|               pics| 35098|\n",
      "|                sex| 28806|\n",
      "|                WTF| 25781|\n",
      "|  explainlikeimfive| 25482|\n",
      "|      todayilearned| 25004|\n",
      "|            Fitness| 22694|\n",
      "|               IAmA| 22689|\n",
      "|          worldnews| 22577|\n",
      "|              DotA2| 22405|\n",
      "+-------------------+------+\n",
      "only showing top 20 rows\n",
      "\n"
     ]
    },
    {
     "name": "stderr",
     "output_type": "stream",
     "text": [
      "                                                                                \r"
     ]
    }
   ],
   "source": [
    "from pyspark.sql.functions import *\n",
    "\n",
    "# Getting number of texts per subreddit\n",
    "summary_per_subreddit = reddit_data.groupby(\"subreddit\").count().orderBy(col('count').desc())\n",
    "summary_per_subreddit.show()"
   ]
  },
  {
   "cell_type": "code",
   "execution_count": null,
   "id": "ff176351-d808-4633-a423-870cf57afec0",
   "metadata": {},
   "outputs": [],
   "source": []
  }
 ],
 "metadata": {
  "kernelspec": {
   "display_name": "Python [conda env:bigdata]",
   "language": "python",
   "name": "conda-env-bigdata-py"
  },
  "language_info": {
   "codemirror_mode": {
    "name": "ipython",
    "version": 3
   },
   "file_extension": ".py",
   "mimetype": "text/x-python",
   "name": "python",
   "nbconvert_exporter": "python",
   "pygments_lexer": "ipython3",
   "version": "3.10.12"
  }
 },
 "nbformat": 4,
 "nbformat_minor": 5
}
